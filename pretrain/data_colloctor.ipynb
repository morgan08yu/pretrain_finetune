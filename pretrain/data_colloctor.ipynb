{
 "cells": [
  {
   "cell_type": "code",
   "execution_count": 1,
   "metadata": {},
   "outputs": [
    {
     "name": "stdout",
     "output_type": "stream",
     "text": [
      "{'input_ids': [[27964], [27964, 66727], [27964, 66727, 5575, 109082]], 'attention_mask': [[1], [1, 1], [1, 1, 1, 1]]}\n",
      "{'input_ids': tensor([[     3,      3,      3,  27964],\n",
      "        [     3,      3,  27964,  66727],\n",
      "        [ 27964,  66727,   5575, 109082]]), 'attention_mask': tensor([[0, 0, 0, 1],\n",
      "        [0, 0, 1, 1],\n",
      "        [1, 1, 1, 1]])}\n",
      "{'input_ids': tensor([[     3,      3,      3,      3,      3,      3,      3,      3,      3,\n",
      "          27964],\n",
      "        [     3,      3,      3,      3,      3,      3,      3,      3,  27964,\n",
      "          66727],\n",
      "        [     3,      3,      3,      3,      3,      3,  27964,  66727,   5575,\n",
      "         109082]]), 'attention_mask': tensor([[0, 0, 0, 0, 0, 0, 0, 0, 0, 1],\n",
      "        [0, 0, 0, 0, 0, 0, 0, 0, 1, 1],\n",
      "        [0, 0, 0, 0, 0, 0, 1, 1, 1, 1]])}\n"
     ]
    }
   ],
   "source": [
    "from transformers import DataCollatorWithPadding, AutoTokenizer\n",
    "path = \"/home/devsrc/LLMs/bloom-560m/\"\n",
    "tokenizer = AutoTokenizer.from_pretrained(path)\n",
    "dc = DataCollatorWithPadding(tokenizer)\n",
    "raw_tokens = tokenizer(['南京', '南京市长', '南京市长江大桥'])\n",
    "print(raw_tokens)\n",
    "print(dc(raw_tokens))\n",
    "\n",
    "dc2 = DataCollatorWithPadding(tokenizer, padding='max_length', max_length=10)\n",
    "print(dc2(raw_tokens))\n"
   ]
  },
  {
   "cell_type": "code",
   "execution_count": 2,
   "metadata": {},
   "outputs": [
    {
     "name": "stdout",
     "output_type": "stream",
     "text": [
      "{'input_ids': tensor([[     3,      3,  27964],\n",
      "        [     3,      3, 238484],\n",
      "        [ 27964,  66727,   5575]]), 'attention_mask': tensor([[0, 0, 1],\n",
      "        [0, 0, 1],\n",
      "        [1, 1, 1]]), 'labels': tensor([[ 66727,   5575, 109082],\n",
      "        [  -100,  98871, 109082],\n",
      "        [  -100,   -100, 109082]])}\n"
     ]
    }
   ],
   "source": [
    "from transformers import DataCollatorForSeq2Seq, AutoTokenizer\n",
    "tokenizer = AutoTokenizer.from_pretrained(path)\n",
    "dc = DataCollatorForSeq2Seq(tokenizer)\n",
    "data = [('南京', '市长江大桥'), ('南京市', '长江大桥'), ('南京市长江', '大桥')]\n",
    "\n",
    "features = []\n",
    "for text, label in data:\n",
    "    feature = tokenizer(text)\n",
    "    feature['labels'] = tokenizer(label)['input_ids']\n",
    "    features.append(feature)\n",
    "\n",
    "print(dc(features))"
   ]
  },
  {
   "cell_type": "code",
   "execution_count": 3,
   "metadata": {},
   "outputs": [
    {
     "data": {
      "text/plain": [
       "[{'input_ids': [27964], 'attention_mask': [1], 'labels': [66727, 5575, 109082]},\n",
       " {'input_ids': [238484], 'attention_mask': [1], 'labels': [98871, 109082]},\n",
       " {'input_ids': [27964, 66727, 5575], 'attention_mask': [1, 1, 1], 'labels': [109082]}]"
      ]
     },
     "execution_count": 3,
     "metadata": {},
     "output_type": "execute_result"
    }
   ],
   "source": [
    "features"
   ]
  },
  {
   "cell_type": "code",
   "execution_count": 6,
   "metadata": {},
   "outputs": [
    {
     "name": "stdout",
     "output_type": "stream",
     "text": [
      "{'input_ids': tensor([[ 27964,      3,      3,      3,      3,      3,      3,      3,      3,\n",
      "              3],\n",
      "        [238484,      3,      3,      3,      3,      3,      3,      3,      3,\n",
      "              3],\n",
      "        [ 27964,  66727,   5575,      3,      3,      3,      3,      3,      3,\n",
      "              3]]), 'attention_mask': tensor([[1, 0, 0, 0, 0, 0, 0, 0, 0, 0],\n",
      "        [1, 0, 0, 0, 0, 0, 0, 0, 0, 0],\n",
      "        [1, 1, 1, 0, 0, 0, 0, 0, 0, 0]]), 'labels': tensor([[ 66727,   5575, 109082,   -100,   -100,   -100,   -100,   -100,   -100,\n",
      "           -100],\n",
      "        [ 98871, 109082,   -100,   -100,   -100,   -100,   -100,   -100,   -100,\n",
      "           -100],\n",
      "        [109082,   -100,   -100,   -100,   -100,   -100,   -100,   -100,   -100,\n",
      "           -100]])}\n"
     ]
    }
   ],
   "source": [
    "seq = DataCollatorForSeq2Seq(tokenizer, padding='max_length', max_length=10)\n",
    "features = []\n",
    "for text, label in data:\n",
    "    feature = tokenizer(text)\n",
    "    feature['labels'] = tokenizer(label)['input_ids']\n",
    "    features.append(feature)\n",
    "\n",
    "print(seq(features))"
   ]
  },
  {
   "cell_type": "code",
   "execution_count": 5,
   "metadata": {},
   "outputs": [],
   "source": [
    "tokenizer.padding_side = 'right'"
   ]
  },
  {
   "cell_type": "code",
   "execution_count": null,
   "metadata": {},
   "outputs": [],
   "source": []
  }
 ],
 "metadata": {
  "kernelspec": {
   "display_name": "llms_ft",
   "language": "python",
   "name": "python3"
  },
  "language_info": {
   "codemirror_mode": {
    "name": "ipython",
    "version": 3
   },
   "file_extension": ".py",
   "mimetype": "text/x-python",
   "name": "python",
   "nbconvert_exporter": "python",
   "pygments_lexer": "ipython3",
   "version": "3.11.8"
  }
 },
 "nbformat": 4,
 "nbformat_minor": 2
}
